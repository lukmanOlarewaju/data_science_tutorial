{
 "cells": [
  {
   "cell_type": "code",
   "execution_count": 3,
   "id": "5b40b991",
   "metadata": {},
   "outputs": [
    {
     "data": {
      "text/plain": [
       "94"
      ]
     },
     "execution_count": 3,
     "metadata": {},
     "output_type": "execute_result"
    }
   ],
   "source": [
    "6+88"
   ]
  },
  {
   "cell_type": "code",
   "execution_count": null,
   "id": "c2e2d577",
   "metadata": {},
   "outputs": [],
   "source": [
    "year=int(input(\"enter the year\"))\n",
    "if year%4==0:\n",
    "    if year%100==0:\n",
    "        if year%400==0:\n",
    "            print(year,\"is a leap year\")\n",
    "        else:\n",
    "            print(year,\"is not a leap year\")\n",
    "            print(\"Hello World\")\n",
    "    else:\n",
    "        print(year)"
   ]
  },
  {
   "cell_type": "code",
   "execution_count": null,
   "id": "0f209c4e",
   "metadata": {},
   "outputs": [],
   "source": [
    "age < 16\n",
    " print "
   ]
  },
  {
   "cell_type": "code",
   "execution_count": null,
   "id": "74c40be2",
   "metadata": {},
   "outputs": [],
   "source": []
  },
  {
   "cell_type": "code",
   "execution_count": null,
   "id": "9612ab01",
   "metadata": {},
   "outputs": [],
   "source": []
  },
  {
   "cell_type": "code",
   "execution_count": null,
   "id": "edfe5139",
   "metadata": {},
   "outputs": [],
   "source": []
  },
  {
   "cell_type": "code",
   "execution_count": null,
   "id": "b072c9fa",
   "metadata": {},
   "outputs": [],
   "source": []
  },
  {
   "cell_type": "code",
   "execution_count": null,
   "id": "96c5fe9f",
   "metadata": {},
   "outputs": [],
   "source": []
  },
  {
   "cell_type": "code",
   "execution_count": null,
   "id": "88f73706",
   "metadata": {},
   "outputs": [],
   "source": []
  },
  {
   "cell_type": "code",
   "execution_count": null,
   "id": "85bd4ee3",
   "metadata": {},
   "outputs": [],
   "source": []
  },
  {
   "cell_type": "code",
   "execution_count": null,
   "id": "6aadb091",
   "metadata": {},
   "outputs": [],
   "source": []
  },
  {
   "cell_type": "code",
   "execution_count": null,
   "id": "72cf716f",
   "metadata": {},
   "outputs": [],
   "source": []
  },
  {
   "cell_type": "code",
   "execution_count": null,
   "id": "dfe5c933",
   "metadata": {},
   "outputs": [],
   "source": []
  },
  {
   "cell_type": "code",
   "execution_count": null,
   "id": "b6770007",
   "metadata": {},
   "outputs": [],
   "source": []
  },
  {
   "cell_type": "code",
   "execution_count": null,
   "id": "6dca58ca",
   "metadata": {},
   "outputs": [],
   "source": []
  },
  {
   "cell_type": "code",
   "execution_count": 2,
   "id": "3bb5f7fb",
   "metadata": {},
   "outputs": [
    {
     "name": "stdout",
     "output_type": "stream",
     "text": [
      "hello word\n"
     ]
    }
   ],
   "source": [
    "print(\"hello word\")"
   ]
  },
  {
   "cell_type": "code",
   "execution_count": 1,
   "id": "b12db2d8",
   "metadata": {},
   "outputs": [
    {
     "name": "stdout",
     "output_type": "stream",
     "text": [
      "hello mom\n"
     ]
    }
   ],
   "source": [
    "##single line syntax\n",
    "print(\"hello mom\")"
   ]
  },
  {
   "cell_type": "code",
   "execution_count": 5,
   "id": "de1dd488",
   "metadata": {},
   "outputs": [
    {
     "name": "stdout",
     "output_type": "stream",
     "text": [
      "total\n"
     ]
    }
   ],
   "source": [
    "\n",
    " ##line continuation \n",
    "total=1+5+5+7+9+\\\n",
    "3+6+9+8\n",
    "print(\"total\")\n"
   ]
  },
  {
   "cell_type": "code",
   "execution_count": 38,
   "id": "074a0af5",
   "metadata": {},
   "outputs": [
    {
     "name": "stdout",
     "output_type": "stream",
     "text": [
      "age\n"
     ]
    }
   ],
   "source": [
    "\n",
    "age=45\n",
    "name=\"ibile\"\n",
    "print(\"age\")"
   ]
  },
  {
   "cell_type": "code",
   "execution_count": 12,
   "id": "22c8b7e6",
   "metadata": {},
   "outputs": [
    {
     "name": "stdout",
     "output_type": "stream",
     "text": [
      "total\n"
     ]
    }
   ],
   "source": [
    "total=1+3+45+\\\n",
    "6+9+7\n",
    "print(\"total\")"
   ]
  },
  {
   "cell_type": "code",
   "execution_count": 14,
   "id": "4e3ac7d0",
   "metadata": {},
   "outputs": [],
   "source": [
    "age=45\n",
    "name=\"olanxy\""
   ]
  },
  {
   "cell_type": "code",
   "execution_count": 15,
   "id": "2a62405e",
   "metadata": {},
   "outputs": [
    {
     "name": "stdout",
     "output_type": "stream",
     "text": [
      "104\n"
     ]
    }
   ],
   "source": [
    "h=45; y=59\n",
    "total=x=h+y\n",
    "print(total)"
   ]
  },
  {
   "cell_type": "code",
   "execution_count": 20,
   "id": "c294ca4c",
   "metadata": {},
   "outputs": [
    {
     "name": "stdout",
     "output_type": "stream",
     "text": [
      "<class 'str'>\n",
      "<class 'int'>\n"
     ]
    }
   ],
   "source": [
    "variable=\"olanxy\"\n",
    "print(type(variable))\n",
    "variable=56\n",
    "print(type(variable))"
   ]
  },
  {
   "cell_type": "code",
   "execution_count": 40,
   "id": "3b7eb5c8",
   "metadata": {},
   "outputs": [],
   "source": [
    "age=45\n",
    "\n",
    "if age<43:\n",
    "    print(\"you good\")"
   ]
  },
  {
   "cell_type": "code",
   "execution_count": 23,
   "id": "fea62480",
   "metadata": {},
   "outputs": [
    {
     "name": "stdout",
     "output_type": "stream",
     "text": [
      "7\n"
     ]
    }
   ],
   "source": [
    "a=7\n",
    "print(a)"
   ]
  },
  {
   "cell_type": "code",
   "execution_count": 38,
   "id": "c0ed56b4",
   "metadata": {},
   "outputs": [
    {
     "name": "stdout",
     "output_type": "stream",
     "text": [
      "age: 6\n",
      "height: 6.3\n",
      "name: olanxy\n"
     ]
    }
   ],
   "source": [
    "age=6\n",
    "height=6.3\n",
    "name=\"olanxy\"\n",
    "is_student=\"true\"\n",
    "print(\"age:\",age) \n",
    "print(\"height:\",height)\n",
    "print(\"name:\",name)"
   ]
  },
  {
   "cell_type": "markdown",
   "id": "43ecc1ba",
   "metadata": {},
   "source": [
    "name=\"9\"\n",
    "Name=\"ola\"\n",
    "name=Name"
   ]
  },
  {
   "cell_type": "markdown",
   "id": "8920cae8",
   "metadata": {},
   "source": [
    "age=76.2\n",
    "print(age)"
   ]
  },
  {
   "cell_type": "markdown",
   "id": "a1762e3d",
   "metadata": {},
   "source": []
  },
  {
   "cell_type": "code",
   "execution_count": 41,
   "id": "815eab9c",
   "metadata": {},
   "outputs": [
    {
     "name": "stdout",
     "output_type": "stream",
     "text": [
      "45.5 <class 'float'>\n"
     ]
    }
   ],
   "source": [
    "age=45.5\n",
    "print(age,type(age))"
   ]
  },
  {
   "cell_type": "code",
   "execution_count": 4,
   "id": "d6f2b485",
   "metadata": {},
   "outputs": [],
   "source": [
    "first_name=\"ola\"\n",
    "last_name=\"ibile\""
   ]
  },
  {
   "cell_type": "code",
   "execution_count": 7,
   "id": "c08b224a",
   "metadata": {},
   "outputs": [],
   "source": [
    "name=\"ola\"\n",
    "Name=\"ibile\""
   ]
  },
  {
   "cell_type": "code",
   "execution_count": 14,
   "id": "b2cf004d",
   "metadata": {},
   "outputs": [
    {
     "data": {
      "text/plain": [
       "5.0"
      ]
     },
     "execution_count": 14,
     "metadata": {},
     "output_type": "execute_result"
    }
   ],
   "source": [
    "age=5.5\n",
    "float(int(age))\n"
   ]
  },
  {
   "cell_type": "code",
   "execution_count": 15,
   "id": "ed916790",
   "metadata": {},
   "outputs": [
    {
     "name": "stdout",
     "output_type": "stream",
     "text": [
      "67 <class 'int'>\n"
     ]
    }
   ],
   "source": [
    "var=67\n",
    "print(var,type(var))"
   ]
  },
  {
   "cell_type": "code",
   "execution_count": 16,
   "id": "accea8e4",
   "metadata": {},
   "outputs": [
    {
     "name": "stdout",
     "output_type": "stream",
     "text": [
      "56 <class 'int'>\n"
     ]
    }
   ],
   "source": [
    "ade=56\n",
    "print(ade,type(ade))"
   ]
  },
  {
   "cell_type": "code",
   "execution_count": 18,
   "id": "2c6f0c4b",
   "metadata": {},
   "outputs": [
    {
     "name": "stdout",
     "output_type": "stream",
     "text": [
      "54\n",
      "<class 'str'>\n"
     ]
    }
   ],
   "source": [
    "age=input(\"what is age\")\n",
    "print(age)\n",
    "print(type(age))"
   ]
  },
  {
   "cell_type": "code",
   "execution_count": 21,
   "id": "58087955",
   "metadata": {},
   "outputs": [
    {
     "name": "stdout",
     "output_type": "stream",
     "text": [
      "15 <class 'int'>\n"
     ]
    }
   ],
   "source": [
    "a=5\n",
    "b=10\n",
    "add_result=a+b\n",
    "Mult_result=a*b\n",
    "sub_result=a-b\n",
    "div_result=a/b\n",
    "floor_div_result=a//b\n",
    "modulos_result=a%b\n",
    "print(add_result,type(add_result))"
   ]
  },
  {
   "cell_type": "code",
   "execution_count": 23,
   "id": "a2422e03",
   "metadata": {},
   "outputs": [
    {
     "data": {
      "text/plain": [
       "False"
      ]
     },
     "execution_count": 23,
     "metadata": {},
     "output_type": "execute_result"
    }
   ],
   "source": [
    "a=7\n",
    "b=5\n",
    "a==b"
   ]
  },
  {
   "cell_type": "code",
   "execution_count": null,
   "id": "23084f76",
   "metadata": {},
   "outputs": [],
   "source": [
    "age < 56\n",
    "if age<=46:\n",
    "    print(\"youre allowed\")\n",
    "    else "
   ]
  },
  {
   "cell_type": "code",
   "execution_count": 25,
   "id": "de9c3979",
   "metadata": {},
   "outputs": [],
   "source": [
    "age=20\n",
    "if age<13:\n",
    "    print(\"okay\")"
   ]
  },
  {
   "cell_type": "code",
   "execution_count": 46,
   "id": "d01cb5aa",
   "metadata": {},
   "outputs": [
    {
     "name": "stdout",
     "output_type": "stream",
     "text": [
      "True\n"
     ]
    }
   ],
   "source": [
    "year=int(input(365))\n",
    "if year<365:\n",
    "    print(True)"
   ]
  },
  {
   "cell_type": "code",
   "execution_count": 6,
   "id": "0458a589",
   "metadata": {},
   "outputs": [
    {
     "name": "stdout",
     "output_type": "stream",
     "text": [
      "2024 is a leap\n"
     ]
    }
   ],
   "source": [
    "year=int(input(\"enter a leap year\"))\n",
    "if year%4==0:\n",
    "    if year%400==0:\n",
    "        print(year,\"is a leap\")\n",
    "    else:print(year,\"is a leap\")\n",
    "else:print(year,\"is not a leap\")"
   ]
  },
  {
   "cell_type": "code",
   "execution_count": 20,
   "id": "95925497",
   "metadata": {},
   "outputs": [
    {
     "name": "stdout",
     "output_type": "stream",
     "text": [
      "2023 is not a leap\n"
     ]
    }
   ],
   "source": [
    "year=int(input(\"enter a leap year\"))\n",
    "if year%4==0:\n",
    "    if year%400==0:\n",
    "        print(year,\"is a leap\")\n",
    "    else:print(year,\"is a leap\")\n",
    "else:print(year,\"is not a leap\")"
   ]
  },
  {
   "cell_type": "markdown",
   "id": "140f6956",
   "metadata": {},
   "source": [
    "year=i"
   ]
  },
  {
   "cell_type": "code",
   "execution_count": 37,
   "id": "df10ae4a",
   "metadata": {},
   "outputs": [],
   "source": [
    "age=int(input(\"enter your age:\"))\n",
    "is_student=input(\"are you a student? (yes/no):\")\n",
    "\n",
    "##determining the price of ticket\n",
    "if age < 5:\n",
    "    price = \"free\"\n",
    "elif age<= 12:\n",
    "    price = \"$10\"\n",
    "elif age <=17:\n",
    "    if is_student =='yes':\n",
    "        price = \"$12\"\n",
    "    else:\n",
    "        price = \"15\"\n",
    "elif age <=64:\n",
    "    if is_student == \"yes\":\n",
    "        price = \"$18\"\n",
    "    else:\n",
    "        price = \"$25\"\n",
    "else:\n",
    "    price = \"$20\"\n",
    "    print(\"ticket price:\",price)\n",
    "\n",
    "\n",
    "\n",
    "\n"
   ]
  },
  {
   "cell_type": "code",
   "execution_count": 29,
   "id": "50ce30f4",
   "metadata": {},
   "outputs": [
    {
     "name": "stdout",
     "output_type": "stream",
     "text": [
      "2121  is not a leap\n"
     ]
    }
   ],
   "source": [
    "year = int(input(\"enter the year:\"))\n",
    "if year%4==0:\n",
    "    if year%400==0:\n",
    "        print(year,\" is a leap\")\n",
    "    else:\n",
    "        print(year,\"is a leap\")\n",
    "else:print(year,\" is not a leap\")\n"
   ]
  },
  {
   "cell_type": "code",
   "execution_count": 30,
   "id": "ff8308e2",
   "metadata": {},
   "outputs": [
    {
     "data": {
      "text/plain": [
       "range(0, 5)"
      ]
     },
     "execution_count": 30,
     "metadata": {},
     "output_type": "execute_result"
    }
   ],
   "source": [
    "range (5)"
   ]
  },
  {
   "cell_type": "code",
   "execution_count": 36,
   "id": "0466ff67",
   "metadata": {},
   "outputs": [
    {
     "name": "stdout",
     "output_type": "stream",
     "text": [
      "1\n",
      "4\n"
     ]
    }
   ],
   "source": [
    "for i in range (1,6,3):\n",
    "    print(i)"
   ]
  },
  {
   "cell_type": "code",
   "execution_count": null,
   "id": "a7a33084",
   "metadata": {},
   "outputs": [],
   "source": [
    "age"
   ]
  },
  {
   "cell_type": "code",
   "execution_count": null,
   "metadata": {},
   "outputs": [],
   "source": []
  },
  {
   "cell_type": "code",
   "execution_count": null,
   "id": "32763f40",
   "metadata": {},
   "outputs": [],
   "source": []
  },
  {
   "cell_type": "code",
   "execution_count": null,
   "id": "3e1c6cf1",
   "metadata": {},
   "outputs": [],
   "source": []
  }
 ],
 "metadata": {
  "kernelspec": {
   "display_name": "base",
   "language": "python",
   "name": "python3"
  },
  "language_info": {
   "codemirror_mode": {
    "name": "ipython",
    "version": 3
   },
   "file_extension": ".py",
   "mimetype": "text/x-python",
   "name": "python",
   "nbconvert_exporter": "python",
   "pygments_lexer": "ipython3",
   "version": "3.13.5"
  }
 },
 "nbformat": 4,
 "nbformat_minor": 5
}
